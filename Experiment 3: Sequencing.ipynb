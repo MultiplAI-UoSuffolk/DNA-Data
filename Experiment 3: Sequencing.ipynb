{
 "cells": [
  {
   "cell_type": "markdown",
   "metadata": {},
   "source": [
    "A notebook to perform sequence clustering with this data\n",
    "Source: https://www.ncbi.nlm.nih.gov/sra/SRX26494648%5Baccn%5D\n"
   ]
  },
  {
   "cell_type": "code",
   "execution_count": 4,
   "metadata": {},
   "outputs": [],
   "source": [
    "import subprocess"
   ]
  },
  {
   "cell_type": "markdown",
   "metadata": {},
   "source": [
    "## FastQ / preproccesing etc"
   ]
  },
  {
   "cell_type": "code",
   "execution_count": 9,
   "metadata": {},
   "outputs": [
    {
     "name": "stdout",
     "output_type": "stream",
     "text": [
      "null\n",
      "Started analysis of SRR31112377.fastq\n",
      "Approx 5% complete for SRR31112377.fastq\n",
      "Approx 10% complete for SRR31112377.fastq\n",
      "Approx 15% complete for SRR31112377.fastq\n",
      "Approx 20% complete for SRR31112377.fastq\n",
      "Approx 25% complete for SRR31112377.fastq\n",
      "Approx 30% complete for SRR31112377.fastq\n",
      "Approx 35% complete for SRR31112377.fastq\n",
      "Approx 40% complete for SRR31112377.fastq\n",
      "Approx 45% complete for SRR31112377.fastq\n",
      "Approx 50% complete for SRR31112377.fastq\n",
      "Approx 55% complete for SRR31112377.fastq\n",
      "Approx 60% complete for SRR31112377.fastq\n",
      "Approx 65% complete for SRR31112377.fastq\n",
      "Approx 70% complete for SRR31112377.fastq\n",
      "Approx 75% complete for SRR31112377.fastq\n",
      "Approx 80% complete for SRR31112377.fastq\n",
      "Approx 85% complete for SRR31112377.fastq\n",
      "Approx 90% complete for SRR31112377.fastq\n",
      "Approx 95% complete for SRR31112377.fastq\n",
      "Analysis complete for SRR31112377.fastq\n"
     ]
    }
   ],
   "source": [
    "# will need to alter this when switching to codespace \n",
    "\n",
    "# local path\n",
    "! /Users/milton/anaconda3/bin/fastqc /Users/milton/Documents/University/Dissertation/git/DNA-Data/SRR31112377.fastq -o /Users/milton/Documents/University/Dissertation/git/DNA-Data/fastq_reports/\n",
    "\n",
    "# codespace path\n",
    "# ! /usr/bin/fastqc /workspaces/DNA-Data/SRR31112377.fastq -o /workspaces/DNA-Data/"
   ]
  },
  {
   "cell_type": "markdown",
   "metadata": {},
   "source": [
    "### Results from report\n",
    "- Per Base Sequence Content (Yellow Warning)\n",
    "    - Indication that nucleotide is not balanced across the sequence\n",
    "    - A,T,G,C freqs should be pretty much equal\n",
    "    - Could be bias in library prep or contamination\n",
    "- Per Sequence GC Content (Red Cross)\n",
    "    - GC distro does not match GC content\n",
    "    - skewed distro could be contamination from another organism or technical bias\n",
    "- Sequence Length Distribution (Yellow Warning)\n",
    "    - Reads have variable lengths\n",
    "    - ! shouldn't be pre-trimmed double check that !\n",
    "- Sequence Duplication Levels (Red Cross)\n",
    "    - High duplication suuggests artifacts or low diversity.\n",
    "    - Bit of an issue (perhaps remove duplicates?)\n",
    "    \n",
    "Everything else seems ok."
   ]
  }
 ],
 "metadata": {
  "kernelspec": {
   "display_name": "dna",
   "language": "python",
   "name": "python3"
  },
  "language_info": {
   "codemirror_mode": {
    "name": "ipython",
    "version": 3
   },
   "file_extension": ".py",
   "mimetype": "text/x-python",
   "name": "python",
   "nbconvert_exporter": "python",
   "pygments_lexer": "ipython3",
   "version": "3.11.11"
  }
 },
 "nbformat": 4,
 "nbformat_minor": 2
}
