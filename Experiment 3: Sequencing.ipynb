{
 "cells": [
  {
   "cell_type": "markdown",
   "metadata": {},
   "source": [
    "A notebook to perform sequence clustering with this data\n",
    "Source: https://www.ncbi.nlm.nih.gov/sra/SRX26494648%5Baccn%5D\n"
   ]
  },
  {
   "cell_type": "markdown",
   "metadata": {},
   "source": [
    "### Imports"
   ]
  },
  {
   "cell_type": "code",
   "execution_count": 59,
   "metadata": {},
   "outputs": [],
   "source": [
    "import subprocess\n",
    "import matplotlib.pyplot as plt\n",
    "import seaborn as sns\n",
    "import numpy as np"
   ]
  },
  {
   "cell_type": "markdown",
   "metadata": {},
   "source": [
    "## FastQ Tools Preproccesing 🧪"
   ]
  },
  {
   "cell_type": "code",
   "execution_count": 60,
   "metadata": {},
   "outputs": [
    {
     "name": "stdout",
     "output_type": "stream",
     "text": [
      "null\n",
      "Started analysis of SRR31112377.fastq\n",
      "Approx 5% complete for SRR31112377.fastq\n",
      "Approx 10% complete for SRR31112377.fastq\n",
      "Approx 15% complete for SRR31112377.fastq\n",
      "Approx 20% complete for SRR31112377.fastq\n",
      "Approx 25% complete for SRR31112377.fastq\n",
      "Approx 30% complete for SRR31112377.fastq\n",
      "Approx 35% complete for SRR31112377.fastq\n",
      "Approx 40% complete for SRR31112377.fastq\n",
      "Approx 45% complete for SRR31112377.fastq\n",
      "Approx 50% complete for SRR31112377.fastq\n",
      "Approx 55% complete for SRR31112377.fastq\n",
      "Approx 60% complete for SRR31112377.fastq\n",
      "Approx 65% complete for SRR31112377.fastq\n",
      "Approx 70% complete for SRR31112377.fastq\n",
      "Approx 75% complete for SRR31112377.fastq\n",
      "Approx 80% complete for SRR31112377.fastq\n",
      "Approx 85% complete for SRR31112377.fastq\n",
      "Approx 90% complete for SRR31112377.fastq\n",
      "Approx 95% complete for SRR31112377.fastq\n",
      "Analysis complete for SRR31112377.fastq\n"
     ]
    }
   ],
   "source": [
    "# will need to alter this when switching to codespace \n",
    "\n",
    "# local path\n",
    "! /Users/milton/anaconda3/bin/fastqc /Users/milton/Documents/University/Dissertation/git/DNA-Data/SRR31112377.fastq -o /Users/milton/Documents/University/Dissertation/git/DNA-Data/fastq_reports/\n",
    "\n",
    "# codespace path\n",
    "# ! /usr/bin/fastqc /workspaces/DNA-Data/SRR31112377.fastq -o /workspaces/DNA-Data/fastq_reports/"
   ]
  },
  {
   "cell_type": "markdown",
   "metadata": {},
   "source": [
    "### Results from report (viewable via html file)\n",
    "- Per Base Sequence Content (Yellow Warning)\n",
    "    - Indication that nucleotide is not balanced across the sequence\n",
    "    - A,T,G,C freqs should be pretty much equal\n",
    "    - Could be bias in library prep or contamination\n",
    "- Per Sequence GC Content (Red Cross)\n",
    "    - GC distro does not match GC content\n",
    "    - skewed distro could be contamination from another organism or technical bias\n",
    "- Sequence Length Distribution (Yellow Warning)\n",
    "    - Reads have variable lengths\n",
    "    - ! shouldn't be pre-trimmed double check that !\n",
    "- Sequence Duplication Levels (Red Cross)\n",
    "    - High duplication suuggests artifacts or low diversity.\n",
    "    - Bit of an issue (perhaps remove duplicates?)\n",
    "    \n",
    "Everything else seems ok."
   ]
  },
  {
   "cell_type": "code",
   "execution_count": 61,
   "metadata": {},
   "outputs": [
    {
     "name": "stdout",
     "output_type": "stream",
     "text": [
      "Detecting adapter sequence for read1...\n",
      "No adapter detected for read1\n",
      "\n",
      "Read1 before filtering:\n",
      "total reads: 1389162\n",
      "total bases: 151004417\n",
      "Q20 bases: 151004417(100%)\n",
      "Q30 bases: 151004417(100%)\n",
      "\n",
      "Read1 after filtering:\n",
      "total reads: 1388473\n",
      "total bases: 150980302\n",
      "Q20 bases: 150980302(100%)\n",
      "Q30 bases: 150980302(100%)\n",
      "\n",
      "Filtering result:\n",
      "reads passed filter: 1388473\n",
      "reads failed due to low quality: 0\n",
      "reads failed due to too many N: 689\n",
      "reads failed due to too short: 0\n",
      "reads with adapter trimmed: 0\n",
      "bases trimmed due to adapters: 0\n",
      "\n",
      "Duplication rate (may be overestimated since this is SE data): 16.9656%\n",
      "\n",
      "JSON report: fastp_reports/report.json\n",
      "HTML report: fastp_reports/report.html\n",
      "\n",
      "fastp -i SRR31112377.fastq -o fastp_reports/output.fastq -h fastp_reports/report.html -j fastp_reports/report.json \n",
      "fastp v0.24.0, time used: 6 seconds\n"
     ]
    }
   ],
   "source": [
    "# NOTE: this code cannot be run without fastp installation, install in codespace!\n",
    "!fastp -i SRR31112377.fastq -o fastp_reports/output.fastq -h fastp_reports/report.html -j fastp_reports/report.json"
   ]
  },
  {
   "cell_type": "markdown",
   "metadata": {},
   "source": [
    "### Fastp results\n",
    "\n",
    "This is trimming and filtering, adapter triming, quality filtering, length filtering and if I added a -d flag I could have removed duplicates too if i deemed it necessary. \n",
    "\n",
    "1. No adapter detected = no contamination = good\n",
    "2. Before n after loss of 689 reads due to too many Ns \n",
    "3. 100% Q20 & Q30 bases so pretty good quality data\n",
    "4. Duplication rate 16.97% this might be expected? not sure \n",
    "\n",
    "concluding, did perform minor trimming, adapter trim wasn't applied as there wasn't any, low qual = 0 therefore it only removeed reads with too many N's (i believe these are called ambigious bases)"
   ]
  },
  {
   "cell_type": "code",
   "execution_count": 62,
   "metadata": {},
   "outputs": [
    {
     "name": "stdout",
     "output_type": "stream",
     "text": [
      "null\n",
      "Started analysis of output.fastq\n",
      "Approx 5% complete for output.fastq\n",
      "Approx 10% complete for output.fastq\n",
      "Approx 15% complete for output.fastq\n",
      "Approx 20% complete for output.fastq\n",
      "Approx 25% complete for output.fastq\n",
      "Approx 30% complete for output.fastq\n",
      "Approx 35% complete for output.fastq\n",
      "Approx 40% complete for output.fastq\n",
      "Approx 45% complete for output.fastq\n",
      "Approx 50% complete for output.fastq\n",
      "Approx 55% complete for output.fastq\n",
      "Approx 60% complete for output.fastq\n",
      "Approx 65% complete for output.fastq\n",
      "Approx 70% complete for output.fastq\n",
      "Approx 75% complete for output.fastq\n",
      "Approx 80% complete for output.fastq\n",
      "Approx 85% complete for output.fastq\n",
      "Approx 90% complete for output.fastq\n",
      "Approx 95% complete for output.fastq\n",
      "Analysis complete for output.fastq\n"
     ]
    }
   ],
   "source": [
    "! /Users/milton/anaconda3/bin/fastqc /Users/milton/Documents/University/Dissertation/git/DNA-Data/fastp_reports/output.fastq -o /Users/milton/Documents/University/Dissertation/git/DNA-Data/fastq_reports/"
   ]
  },
  {
   "cell_type": "markdown",
   "metadata": {},
   "source": [
    "report comparison of fastq file before and after fastp didn't yield much results "
   ]
  },
  {
   "cell_type": "code",
   "execution_count": 63,
   "metadata": {},
   "outputs": [
    {
     "name": "stdout",
     "output_type": "stream",
     "text": [
      "@SRR31112377.1 M00305:354:000000000-KRJCN:1:1101:18677:1921 length=106\n",
      "AGGATGGGCGCATTTCGGCTTTAGGGTGCCAGCATTTTAGCATTACTTCATATCTGTTCCAAAAAGAAAGACATGCTGTAAGAGACCCTTTGAAGGCAGGCATTTC\n",
      "+SRR31112377.1 M00305:354:000000000-KRJCN:1:1101:18677:1921 length=106\n",
      "??????????????????????????????????????????????????????????????????????????????????????????????????????????\n",
      "@SRR31112377.1 M00305:354:000000000-KRJCN:1:1101:18677:1921 length=106\n",
      "TTAATGCCTGCCTTCTTTGGTTCTCTTACAGCTTGTCTTTCTTTTTGGTTCTGCTTTGAAGTATTGCTAAAATGCTGGCACCCTATTGCCGAAATGCGCCCATCCT\n",
      "+SRR31112377.1 M00305:354:000000000-KRJCN:1:1101:18677:1921 length=106\n",
      "??????????????????????????????????????????????????????????????????????????????????????????????????????????\n"
     ]
    }
   ],
   "source": [
    "!head -n 8 fastp_reports/output.fastq"
   ]
  },
  {
   "cell_type": "markdown",
   "metadata": {},
   "source": [
    "- data is single-end \n",
    "    - paired-end data would have headers 1/1 and 1/2 for forward and reverse read\n",
    "- thus use -s flag when handling to specify SE"
   ]
  },
  {
   "cell_type": "code",
   "execution_count": 64,
   "metadata": {},
   "outputs": [],
   "source": [
    "# Removing duplicates; commented out because might not be contextually right to do so. Furthemore, could harm clustering.\n",
    "# Code will remain in case it is needed in the future.\n",
    "\n",
    "# !seqkit rmdup -s -i fastp_reports/output.fastq -o dedup.fastq"
   ]
  },
  {
   "cell_type": "markdown",
   "metadata": {},
   "source": [
    "removal of duplicates\n",
    "- rmdup\n",
    "    - removes duplicates\n",
    "- -s\n",
    "    - flag which specifies single-end-mode \n",
    "- -i \n",
    "    - flag for input file as used before \n",
    "- -o \n",
    "    - flag for output file as also used before"
   ]
  },
  {
   "cell_type": "markdown",
   "metadata": {},
   "source": [
    "## Data Exploration & More Preprocessing 🚀"
   ]
  },
  {
   "cell_type": "markdown",
   "metadata": {},
   "source": [
    "### Quick FastQ lecture for context and referance\n",
    "\n",
    "What is makes up a FastQ file?\n",
    "\n",
    "    1. Line 1: Header\n",
    "    This line provides info about the read such as sequencing machine identifier and read indentifier.\n",
    "\n",
    "    2. Line 2: Sequence\n",
    "    This is what we want it is the actual sequence of nucleotides since I'm working with DNA we will be looking for A,T,C and G. \n",
    "\n",
    "    3. Line 3: Plus Line\n",
    "    Just a seperator denoted by +\n",
    "\n",
    "    4. Line 4: Quality Scores\n",
    "    ASCII characters which correspond to the quality score for a nucleotide in the seq. -> (a measure of confidence seq machine has in that base call) "
   ]
  },
  {
   "cell_type": "code",
   "execution_count": 65,
   "metadata": {},
   "outputs": [
    {
     "name": "stdout",
     "output_type": "stream",
     "text": [
      "@SRR31112377.1 M00305:354:000000000-KRJCN:1:1101:18677:1921 length=106\n",
      "AGGATGGGCGCATTTCGGCTTTAGGGTGCCAGCATTTTAGCATTACTTCATATCTGTTCCAAAAAGAAAGACATGCTGTAAGAGACCCTTTGAAGGCAGGCATTTC\n",
      "+SRR31112377.1 M00305:354:000000000-KRJCN:1:1101:18677:1921 length=106\n",
      "??????????????????????????????????????????????????????????????????????????????????????????????????????????\n",
      "@SRR31112377.1 M00305:354:000000000-KRJCN:1:1101:18677:1921 length=106\n",
      "TTAATGCCTGCCTTCTTTGGTTCTCTTACAGCTTGTCTTTCTTTTTGGTTCTGCTTTGAAGTATTGCTAAAATGCTGGCACCCTATTGCCGAAATGCGCCCATCCT\n",
      "+SRR31112377.1 M00305:354:000000000-KRJCN:1:1101:18677:1921 length=106\n",
      "??????????????????????????????????????????????????????????????????????????????????????????????????????????\n"
     ]
    }
   ],
   "source": [
    "# path to FastQ file\n",
    "file_path = 'fastp_reports/output.fastq'\n",
    "\n",
    "# read and print the first 8 lines of the file\n",
    "with open(file_path, 'r') as file:\n",
    "    for i in range(8):\n",
    "        print(file.readline().strip())  # .strip() removes trailing newline characters"
   ]
  },
  {
   "cell_type": "markdown",
   "metadata": {},
   "source": [
    "displaying data head\n",
    "- r is used to have file in read mode\n",
    "- readline in combo with a loop means i can read and process line by line which is more efficient for big files\n",
    "- sequence as seen above is in second line (IMPORTANT)\n"
   ]
  },
  {
   "cell_type": "code",
   "execution_count": 66,
   "metadata": {},
   "outputs": [
    {
     "name": "stdout",
     "output_type": "stream",
     "text": [
      "['AGGATGGGCGCATTTCGGCTTTAGGGTGCCAGCATTTTAGCATTACTTCATATCTGTTCCAAAAAGAAAGACATGCTGTAAGAGACCCTTTGAAGGCAGGCATTTC', 'TTAATGCCTGCCTTCTTTGGTTCTCTTACAGCTTGTCTTTCTTTTTGGTTCTGCTTTGAAGTATTGCTAAAATGCTGGCACCCTATTGCCGAAATGCGCCCATCCT', 'CAGGGGCATACTAATAGAGTCTATTCATTACAGGTAAGTTCTCTTATCTCTCCCTTAATTTCTCTCCTGATGCTTCATAAGGTTGTTTTACTCA', 'TTTTTTTTTCTTCCTTTTTCTTCCTCTTTTTTTCTTTTTTTTTTTAGCTATCTTTTCTTTCCTGTATTCACTAGCCTCTATTAGTATGCCCCTGATATCGGAAGTGCGTCGTGTAGGGAATGTTTGTTCCTCTATGTTTTTTTCTCGTTTT', 'GAGGATGGCAACAGAAGAGTAAAGGACCCAAGAAAACTGCTAAATCAAAAAAAAAGAAACCTTTAAAAAAAAAACCTACACCTGTGCTATTACCACAGTCAACGCAACAAAAACAAAAGCAGGC', 'TCCTTCTTTTGTTTTTTTTTCTTTTTCTGTGGTTATAGCACAGGTGTCGTTTTTTTTTTTTTTTGTTTCTTTTTTTTTGTTTTTGCTGTTTTCTTTTTTCCTTTTCTCTTCTTTTTCCTTCCTCTTATCTTTATTTCGTCGTGTTTTTTTT', 'CATATTTGCATGGGGTGTGGCCACCATCTTGTTTTGATTTCCCTTTTTCCCAGCCTTATTCCCTTCAAAGCTTTGTTCTGGGAAAATGGTCACATACCCTCTCACTCATTTGTTTTCTTCTCTCCTCCCTGCTTCTTTCTCCTACAATATC', 'TTTTTTTTTCTTTTTCTTTTTTTTTATTTTACTTCACTTTTTTTTTTTTTTCTTTGCCCCTTTTCCCTTACCACTTCTTTGTAGGTCCTATGGCTGGGACAACGTGAATTCATATCAAGATGGTTGCCACACCCCTTTCTAATCTTTTTTC']\n"
     ]
    }
   ],
   "source": [
    "# test to see if i can extract sequence with my newfound knowledge stated above \n",
    "sequences = []\n",
    "\n",
    "file_path = \"fastp_reports/output.fastq\"\n",
    "\n",
    "with open(file_path, 'r') as file:\n",
    "    for i in range(8):  # loop through the first 8 records aka 4 lines per record\n",
    "        file.readline()  # skip the header line\n",
    "        sequence = file.readline().strip()  # read and strip the sequence line\n",
    "        file.readline()  # skip the plus line\n",
    "        file.readline()  # skip the quality line\n",
    "        sequences.append(sequence)  # keep sequence\n",
    "\n",
    "print(sequences)"
   ]
  },
  {
   "cell_type": "markdown",
   "metadata": {},
   "source": [
    "PROGRESS!!!\n",
    "*consult with Kakia to see if this is the correct approach.\n",
    "- note: I could loop this through the entire file if so."
   ]
  },
  {
   "cell_type": "code",
   "execution_count": 67,
   "metadata": {},
   "outputs": [
    {
     "data": {
      "image/png": "[encoded data removed]",
      "text/plain": [
       "<Figure size 1000x600 with 1 Axes>"
      ]
     },
     "metadata": {},
     "output_type": "display_data"
    }
   ],
   "source": [
    "# counts length of each sequence\n",
    "seq_lengths = [len(seq) for seq in open('fastp_reports/output.fastq') if seq.startswith('@')]\n",
    "\n",
    "# histogram of sequence lengths\n",
    "plt.figure(figsize=(10,6))\n",
    "sns.histplot(seq_lengths, kde=True, bins=50, color=\"skyblue\")\n",
    "plt.title('Sequence Length Distribution')\n",
    "plt.xlabel('Length')\n",
    "plt.ylabel('Frequency')\n",
    "plt.show()"
   ]
  },
  {
   "cell_type": "markdown",
   "metadata": {},
   "source": [
    "right skewed distro\n",
    "- log transform?"
   ]
  }
 ],
 "metadata": {
  "kernelspec": {
   "display_name": "dna",
   "language": "python",
   "name": "python3"
  },
  "language_info": {
   "codemirror_mode": {
    "name": "ipython",
    "version": 3
   },
   "file_extension": ".py",
   "mimetype": "text/x-python",
   "name": "python",
   "nbconvert_exporter": "python",
   "pygments_lexer": "ipython3",
   "version": "3.11.11"
  }
 },
 "nbformat": 4,
 "nbformat_minor": 2
}
