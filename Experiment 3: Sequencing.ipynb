{
 "cells": [
  {
   "cell_type": "markdown",
   "metadata": {},
   "source": [
    "A notebook to perform sequence clustering with this data\n",
    "Source: https://www.ncbi.nlm.nih.gov/sra/SRX26494648%5Baccn%5D\n"
   ]
  },
  {
   "cell_type": "code",
   "execution_count": 4,
   "metadata": {},
   "outputs": [],
   "source": [
    "import subprocess"
   ]
  },
  {
   "cell_type": "markdown",
   "metadata": {},
   "source": [
    "## FastQ / preproccesing etc"
   ]
  },
  {
   "cell_type": "code",
   "execution_count": 9,
   "metadata": {},
   "outputs": [
    {
     "name": "stdout",
     "output_type": "stream",
     "text": [
      "null\n",
      "Started analysis of SRR31112377.fastq\n",
      "Approx 5% complete for SRR31112377.fastq\n",
      "Approx 10% complete for SRR31112377.fastq\n",
      "Approx 15% complete for SRR31112377.fastq\n",
      "Approx 20% complete for SRR31112377.fastq\n",
      "Approx 25% complete for SRR31112377.fastq\n",
      "Approx 30% complete for SRR31112377.fastq\n",
      "Approx 35% complete for SRR31112377.fastq\n",
      "Approx 40% complete for SRR31112377.fastq\n",
      "Approx 45% complete for SRR31112377.fastq\n",
      "Approx 50% complete for SRR31112377.fastq\n",
      "Approx 55% complete for SRR31112377.fastq\n",
      "Approx 60% complete for SRR31112377.fastq\n",
      "Approx 65% complete for SRR31112377.fastq\n",
      "Approx 70% complete for SRR31112377.fastq\n",
      "Approx 75% complete for SRR31112377.fastq\n",
      "Approx 80% complete for SRR31112377.fastq\n",
      "Approx 85% complete for SRR31112377.fastq\n",
      "Approx 90% complete for SRR31112377.fastq\n",
      "Approx 95% complete for SRR31112377.fastq\n",
      "Analysis complete for SRR31112377.fastq\n"
     ]
    }
   ],
   "source": [
    "# will need to alter this when switching to codespace \n",
    "\n",
    "# local path\n",
    "! /Users/milton/anaconda3/bin/fastqc /Users/milton/Documents/University/Dissertation/git/DNA-Data/SRR31112377.fastq -o /Users/milton/Documents/University/Dissertation/git/DNA-Data/fastq_reports/\n",
    "\n",
    "# codespace path\n",
    "# ! /usr/bin/fastqc /workspaces/DNA-Data/SRR31112377.fastq -o /workspaces/DNA-Data/fastq_reports/"
   ]
  },
  {
   "cell_type": "markdown",
   "metadata": {},
   "source": [
    "### Results from report (viewable via html file)\n",
    "- Per Base Sequence Content (Yellow Warning)\n",
    "    - Indication that nucleotide is not balanced across the sequence\n",
    "    - A,T,G,C freqs should be pretty much equal\n",
    "    - Could be bias in library prep or contamination\n",
    "- Per Sequence GC Content (Red Cross)\n",
    "    - GC distro does not match GC content\n",
    "    - skewed distro could be contamination from another organism or technical bias\n",
    "- Sequence Length Distribution (Yellow Warning)\n",
    "    - Reads have variable lengths\n",
    "    - ! shouldn't be pre-trimmed double check that !\n",
    "- Sequence Duplication Levels (Red Cross)\n",
    "    - High duplication suuggests artifacts or low diversity.\n",
    "    - Bit of an issue (perhaps remove duplicates?)\n",
    "    \n",
    "Everything else seems ok."
   ]
  },
  {
   "cell_type": "code",
   "execution_count": 16,
   "metadata": {},
   "outputs": [
    {
     "name": "stdout",
     "output_type": "stream",
     "text": [
      "Detecting adapter sequence for read1...\n",
      "No adapter detected for read1\n",
      "\n",
      "Read1 before filtering:\n",
      "total reads: 1389162\n",
      "total bases: 151004417\n",
      "Q20 bases: 151004417(100%)\n",
      "Q30 bases: 151004417(100%)\n",
      "\n",
      "Read1 after filtering:\n",
      "total reads: 1388473\n",
      "total bases: 150980302\n",
      "Q20 bases: 150980302(100%)\n",
      "Q30 bases: 150980302(100%)\n",
      "\n",
      "Filtering result:\n",
      "reads passed filter: 1388473\n",
      "reads failed due to low quality: 0\n",
      "reads failed due to too many N: 689\n",
      "reads failed due to too short: 0\n",
      "reads with adapter trimmed: 0\n",
      "bases trimmed due to adapters: 0\n",
      "\n",
      "Duplication rate (may be overestimated since this is SE data): 16.9656%\n",
      "\n",
      "JSON report: fastp_reports/report.json\n",
      "HTML report: fastp_reports/report.html\n",
      "\n",
      "fastp -i SRR31112377.fastq -o fastp_reports/output.fastq -h fastp_reports/report.html -j fastp_reports/report.json \n",
      "fastp v0.24.0, time used: 7 seconds\n"
     ]
    }
   ],
   "source": [
    "# NOTE: this code cannot be run without fastp installation, install in codespace!\n",
    "!fastp -i SRR31112377.fastq -o fastp_reports/output.fastq -h fastp_reports/report.html -j fastp_reports/report.json"
   ]
  },
  {
   "cell_type": "markdown",
   "metadata": {},
   "source": [
    "### Fastp results\n",
    "1. No adapter detected = no contamination = good\n",
    "2. Before n after loss of 689 reads due to too many Ns \n",
    "3. 100% Q20 & Q30 bases so pretty good quality data\n",
    "4. Duplication rate 16.97% this might be expected? not sure "
   ]
  }
 ],
 "metadata": {
  "kernelspec": {
   "display_name": "dna",
   "language": "python",
   "name": "python3"
  },
  "language_info": {
   "codemirror_mode": {
    "name": "ipython",
    "version": 3
   },
   "file_extension": ".py",
   "mimetype": "text/x-python",
   "name": "python",
   "nbconvert_exporter": "python",
   "pygments_lexer": "ipython3",
   "version": "3.11.11"
  }
 },
 "nbformat": 4,
 "nbformat_minor": 2
}
