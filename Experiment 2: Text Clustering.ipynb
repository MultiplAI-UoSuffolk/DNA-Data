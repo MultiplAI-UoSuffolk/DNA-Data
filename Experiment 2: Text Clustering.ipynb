{
 "cells": [
  {
   "cell_type": "code",
   "execution_count": 1,
   "metadata": {},
   "outputs": [],
   "source": [
    "# globals\n",
    "import numpy as np\n",
    "from collections import defaultdict\n",
    "from time import time\n",
    "import matplotlib.pyplot as plt\n",
    "import pandas as pd\n",
    "\n",
    "# sklearn\n",
    "from sklearn import metrics \n",
    "from sklearn.cluster import KMeans\n",
    "from sklearn.feature_extraction.text import TfidfVectorizer, HashingVectorizer, TfidfTransformer\n",
    "from sklearn.datasets import fetch_20newsgroups # importing dataset\n",
    "from sklearn.decomposition import TruncatedSVD\n",
    "from sklearn.pipeline import make_pipeline\n",
    "from sklearn.preprocessing import Normalizer\n",
    "from sklearn.cluster import MiniBatchKMeans\n"
   ]
  },
  {
   "cell_type": "markdown",
   "metadata": {},
   "source": [
    "### Evaluating Function"
   ]
  },
  {
   "cell_type": "code",
   "execution_count": 2,
   "metadata": {},
   "outputs": [],
   "source": [
    "evaluations = []\n",
    "evaluations_std = []\n",
    "\n",
    "\n",
    "def fit_and_evaluate(km, X, name=None, n_runs=5):\n",
    "    name = km.__class__.__name__ if name is None else name\n",
    "\n",
    "    train_times = []\n",
    "    scores = defaultdict(list)\n",
    "    for seed in range(n_runs):\n",
    "        km.set_params(random_state=seed)\n",
    "        t0 = time()\n",
    "        km.fit(X)\n",
    "        train_times.append(time() - t0)\n",
    "        scores[\"Homogeneity\"].append(metrics.homogeneity_score(labels, km.labels_))\n",
    "        scores[\"Completeness\"].append(metrics.completeness_score(labels, km.labels_))\n",
    "        scores[\"V-measure\"].append(metrics.v_measure_score(labels, km.labels_))\n",
    "        scores[\"Adjusted Rand-Index\"].append(\n",
    "            metrics.adjusted_rand_score(labels, km.labels_)\n",
    "        )\n",
    "        scores[\"Silhouette Coefficient\"].append(\n",
    "            metrics.silhouette_score(X, km.labels_, sample_size=2000)\n",
    "        )\n",
    "    train_times = np.asarray(train_times)\n",
    "\n",
    "    print(f\"clustering done in {train_times.mean():.2f} ± {train_times.std():.2f} s \")\n",
    "    evaluation = {\n",
    "        \"estimator\": name,\n",
    "        \"train_time\": train_times.mean(),\n",
    "    }\n",
    "    evaluation_std = {\n",
    "        \"estimator\": name,\n",
    "        \"train_time\": train_times.std(),\n",
    "    }\n",
    "    for score_name, score_values in scores.items():\n",
    "        mean_score, std_score = np.mean(score_values), np.std(score_values)\n",
    "        print(f\"{score_name}: {mean_score:.3f} ± {std_score:.3f}\")\n",
    "        evaluation[score_name] = mean_score\n",
    "        evaluation_std[score_name] = std_score\n",
    "    evaluations.append(evaluation)\n",
    "    evaluations_std.append(evaluation_std)"
   ]
  },
  {
   "cell_type": "markdown",
   "metadata": {},
   "source": [
    "this code block defines a function to call when evaluating the clustering algorithm. Because the experiment below uses labels, the function is able to use this to quantify the quality of the clusters. (typically this is a supervised method of evaluating.)\n",
    "\n",
    "homegenity - measure of how much single class members each cluster has\n",
    "\n",
    "completeness - measure on whether all members of a given class are assigned to the same cluster\n",
    "\n",
    "V-measure - harmonic mean of homogenity and completeness\n",
    "\n",
    "Adjusted Rand-Index - measures the similarity of the true labels and clustering labels and adjusted for chance. \n",
    "\n",
    "silouette coef - how close clusters are and how distinct they are  "
   ]
  },
  {
   "cell_type": "markdown",
   "metadata": {},
   "source": [
    "### Code"
   ]
  },
  {
   "cell_type": "code",
   "execution_count": 3,
   "metadata": {},
   "outputs": [],
   "source": [
    "dataset = fetch_20newsgroups(subset=\"all\")"
   ]
  },
  {
   "cell_type": "code",
   "execution_count": 4,
   "metadata": {},
   "outputs": [
    {
     "name": "stdout",
     "output_type": "stream",
     "text": [
      "['alt.atheism', 'comp.graphics', 'comp.os.ms-windows.misc', 'comp.sys.ibm.pc.hardware', 'comp.sys.mac.hardware', 'comp.windows.x', 'misc.forsale', 'rec.autos', 'rec.motorcycles', 'rec.sport.baseball', 'rec.sport.hockey', 'sci.crypt', 'sci.electronics', 'sci.med', 'sci.space', 'soc.religion.christian', 'talk.politics.guns', 'talk.politics.mideast', 'talk.politics.misc', 'talk.religion.misc']\n"
     ]
    }
   ],
   "source": [
    "print(dataset.target_names) # printing all the categories"
   ]
  },
  {
   "cell_type": "code",
   "execution_count": 5,
   "metadata": {},
   "outputs": [
    {
     "name": "stdout",
     "output_type": "stream",
     "text": [
      "3845 documents - 4 categories\n"
     ]
    }
   ],
   "source": [
    "# defining topics\n",
    "categories = [\n",
    "    \"comp.os.ms-windows.misc\",\n",
    "    \"comp.sys.mac.hardware\",\n",
    "    \"talk.politics.guns\",\n",
    "    \"sci.space\",\n",
    "]\n",
    "\n",
    "# taking away unwanted parts of the data this prevents classifiers overfitting on metadata \n",
    "dataset = fetch_20newsgroups(\n",
    "    remove=(\"headers\", \"footers\", \"quotes\"),\n",
    "    subset=\"all\",\n",
    "    categories=categories,\n",
    "    shuffle=True,\n",
    "    random_state=42,\n",
    ")\n",
    "\n",
    "# printing the number of documents and categories\n",
    "labels = dataset.target\n",
    "unique_labels, category_sizes = np.unique(labels, return_counts=True)\n",
    "true_k = unique_labels.shape[0]\n",
    "\n",
    "print(f\"{len(dataset.data)} documents - {true_k} categories\")"
   ]
  },
  {
   "cell_type": "code",
   "execution_count": 6,
   "metadata": {},
   "outputs": [
    {
     "name": "stdout",
     "output_type": "stream",
     "text": [
      "vectorization done in 0.435 s\n",
      "n_samples: 3845, n_features: 8397\n"
     ]
    }
   ],
   "source": [
    "vectorizer = TfidfVectorizer(\n",
    "    max_df=0.5, # ignore terms that appear in more than 50% of docs\n",
    "    min_df=5, # ignore terms that arent in at least 5 docs\n",
    "    stop_words=\"english\", # this removes common english dialect words such as \"then, the, and etc\"\n",
    ")\n",
    "t0 = time() # records the time of vectorisation\n",
    "X_tfidf = vectorizer.fit_transform(dataset.data)\n",
    "\n",
    "print(f\"vectorization done in {time() - t0:.3f} s\")\n",
    "print(f\"n_samples: {X_tfidf.shape[0]}, n_features: {X_tfidf.shape[1]}\")"
   ]
  },
  {
   "cell_type": "markdown",
   "metadata": {},
   "source": [
    "TfidVectorizer uses an in-memory vocabulary to map most frequent words to features indices. "
   ]
  },
  {
   "cell_type": "markdown",
   "metadata": {},
   "source": [
    "n_features would contain the resulting number of unique terms after we used the parameters to cut down the search"
   ]
  },
  {
   "cell_type": "code",
   "execution_count": 7,
   "metadata": {},
   "outputs": [
    {
     "name": "stdout",
     "output_type": "stream",
     "text": [
      "0.006\n"
     ]
    }
   ],
   "source": [
    "print(f\"{X_tfidf.nnz / np.prod(X_tfidf.shape):.3f}\")"
   ]
  },
  {
   "cell_type": "markdown",
   "metadata": {},
   "source": [
    "The above quantifys the sparsity of the X_tfidf matrix as the fraction of non-zero entries / total no. of elements"
   ]
  },
  {
   "cell_type": "code",
   "execution_count": 8,
   "metadata": {},
   "outputs": [
    {
     "name": "stdout",
     "output_type": "stream",
     "text": [
      "Number of elements assigned to each cluster: [   1 3816   26    2]\n",
      "Number of elements assigned to each cluster: [   1 3842    1    1]\n",
      "Number of elements assigned to each cluster: [ 630  787  542 1886]\n",
      "Number of elements assigned to each cluster: [ 527 2411  406  501]\n",
      "Number of elements assigned to each cluster: [   2    1    1 3841]\n",
      "\n",
      "True number of documents in each category according to the class labels: [985 963 987 910]\n"
     ]
    }
   ],
   "source": [
    "for seed in range(5):\n",
    "    kmeans = KMeans(\n",
    "        n_clusters=true_k,\n",
    "        max_iter=100,\n",
    "        n_init=1,\n",
    "        random_state=seed,\n",
    "    ).fit(X_tfidf)\n",
    "    cluster_ids, cluster_sizes = np.unique(kmeans.labels_, return_counts=True)\n",
    "    print(f\"Number of elements assigned to each cluster: {cluster_sizes}\")\n",
    "print()\n",
    "print(\n",
    "    \"True number of documents in each category according to the class labels: \"\n",
    "    f\"{category_sizes}\"\n",
    ")"
   ]
  },
  {
   "cell_type": "code",
   "execution_count": 9,
   "metadata": {},
   "outputs": [
    {
     "name": "stdout",
     "output_type": "stream",
     "text": [
      "clustering done in 0.09 ± 0.01 s \n",
      "Homogeneity: 0.429 ± 0.016\n",
      "Completeness: 0.497 ± 0.014\n",
      "V-measure: 0.460 ± 0.015\n",
      "Adjusted Rand-Index: 0.297 ± 0.024\n",
      "Silhouette Coefficient: 0.009 ± 0.000\n"
     ]
    }
   ],
   "source": [
    "kmeans = KMeans(\n",
    "    n_clusters=true_k,\n",
    "    max_iter=100,\n",
    "    n_init=5, # increased number of runs with different centroid seeds\n",
    ")\n",
    "\n",
    "fit_and_evaluate(kmeans, X_tfidf, name=\"KMeans\\non tf-idf vectors\") # uses the evaluation function to evaluate the model\n"
   ]
  },
  {
   "cell_type": "markdown",
   "metadata": {},
   "source": [
    "scores indicate moderate clustering quality"
   ]
  },
  {
   "cell_type": "code",
   "execution_count": 10,
   "metadata": {},
   "outputs": [
    {
     "name": "stdout",
     "output_type": "stream",
     "text": [
      "LSA done in 0.392 s\n",
      "Explained variance of the SVD step: 18.4%\n"
     ]
    }
   ],
   "source": [
    "lsa = make_pipeline(TruncatedSVD(n_components=100), Normalizer(copy=False))\n",
    "t0 = time()\n",
    "X_lsa = lsa.fit_transform(X_tfidf)\n",
    "explained_variance = lsa[0].explained_variance_ratio_.sum()\n",
    "\n",
    "print(f\"LSA done in {time() - t0:.3f} s\")\n",
    "print(f\"Explained variance of the SVD step: {explained_variance * 100:.1f}%\")"
   ]
  },
  {
   "cell_type": "markdown",
   "metadata": {},
   "source": [
    "Latent Semantic Analysis (LSA) is a dimensionality reduction technique that uses singular value decomposition (SVD) to reduce the dimensionality of the TF-IDF vectors.\n",
    "\n",
    "n-init=1 can still be used only if the vectorized space dimension is reduced first to make k-means more stable. \n",
    "\n"
   ]
  },
  {
   "cell_type": "code",
   "execution_count": 11,
   "metadata": {},
   "outputs": [
    {
     "name": "stdout",
     "output_type": "stream",
     "text": [
      "clustering done in 0.06 ± 0.05 s \n",
      "Homogeneity: 0.483 ± 0.067\n",
      "Completeness: 0.555 ± 0.021\n",
      "V-measure: 0.515 ± 0.048\n",
      "Adjusted Rand-Index: 0.404 ± 0.102\n",
      "Silhouette Coefficient: 0.036 ± 0.003\n"
     ]
    }
   ],
   "source": [
    "kmeans = KMeans(\n",
    "    n_clusters=true_k,\n",
    "    max_iter=100,\n",
    "    n_init=1,\n",
    ")\n",
    "\n",
    "fit_and_evaluate(kmeans, X_lsa, name=\"KMeans\\nwith LSA on tf-idf vectors\")"
   ]
  },
  {
   "cell_type": "markdown",
   "metadata": {},
   "source": [
    "LSA makes clustering perform much faster and the algorithm has improved."
   ]
  },
  {
   "cell_type": "code",
   "execution_count": 12,
   "metadata": {},
   "outputs": [
    {
     "name": "stdout",
     "output_type": "stream",
     "text": [
      "clustering done in 0.04 ± 0.03 s \n",
      "Homogeneity: 0.326 ± 0.203\n",
      "Completeness: 0.422 ± 0.101\n",
      "V-measure: 0.347 ± 0.185\n",
      "Adjusted Rand-Index: 0.292 ± 0.227\n",
      "Silhouette Coefficient: 0.022 ± 0.015\n"
     ]
    }
   ],
   "source": [
    "minibatch_kmeans = MiniBatchKMeans(\n",
    "    n_clusters=true_k,\n",
    "    n_init=1,\n",
    "    init_size=1000,\n",
    "    batch_size=1000,\n",
    ")\n",
    "\n",
    "fit_and_evaluate(\n",
    "    minibatch_kmeans,\n",
    "    X_lsa,\n",
    "    name=\"MiniBatchKMeans\\nwith LSA on tf-idf vectors\",\n",
    ")"
   ]
  },
  {
   "cell_type": "code",
   "execution_count": 13,
   "metadata": {},
   "outputs": [
    {
     "name": "stdout",
     "output_type": "stream",
     "text": [
      "Cluster 0: windows file dos files thanks program use using problem ftp \n",
      "Cluster 1: fbi batf koresh did government compound gas people atf bd \n",
      "Cluster 2: space just like know mac don does think apple use \n",
      "Cluster 3: gun guns people don law right weapons crime government firearms \n"
     ]
    }
   ],
   "source": [
    "original_space_centroids = lsa[0].inverse_transform(kmeans.cluster_centers_)\n",
    "order_centroids = original_space_centroids.argsort()[:, ::-1]\n",
    "terms = vectorizer.get_feature_names_out()\n",
    "\n",
    "for i in range(true_k):\n",
    "    print(f\"Cluster {i}: \", end=\"\")\n",
    "    for ind in order_centroids[i, :10]:\n",
    "        print(f\"{terms[ind]} \", end=\"\")\n",
    "    print()"
   ]
  },
  {
   "cell_type": "markdown",
   "metadata": {},
   "source": [
    "inverting TfidfVectorizer to indentify cluster centres which provides intuition of the most influential words in each cluster. \n",
    "\n",
    "1. transform cluster centres back to original feature space using instance from lsa.\n",
    "\n",
    "2. argsort is then used on the centroids to get the indices of the terms sorted by importance in descending order for each cluster. The slicing at the end of the line reverses the order so most important terms come first.\n",
    "\n",
    "3. Vectorizer.get_fea... method retrieves the list of terms (features) from the vertorizer; which transformed the orignal text into a TF-IDF matrix. List of terms is then stored in the terms var.\n",
    "\n",
    "4. the Code is then iterated over each cluster from 0 to true k minus 1. The first 10 indices in the order iterated over will print the corresponding terms from the list. \n",
    "\n"
   ]
  },
  {
   "cell_type": "code",
   "execution_count": 14,
   "metadata": {},
   "outputs": [
    {
     "name": "stdout",
     "output_type": "stream",
     "text": [
      "vectorization done in 1.538 s\n"
     ]
    }
   ],
   "source": [
    "lsa_vectorizer = make_pipeline(\n",
    "    HashingVectorizer(stop_words=\"english\", n_features=50_000),\n",
    "    TfidfTransformer(),\n",
    "    TruncatedSVD(n_components=100, random_state=0),\n",
    "    Normalizer(copy=False),\n",
    ")\n",
    "\n",
    "t0 = time()\n",
    "X_hashed_lsa = lsa_vectorizer.fit_transform(dataset.data)\n",
    "print(f\"vectorization done in {time() - t0:.3f} s\")"
   ]
  },
  {
   "cell_type": "markdown",
   "metadata": {},
   "source": [
    "Pipeline to process text through different transformers.\n",
    "\n",
    "HashingVec - converts text data into matrix of token occurences, removes common english stop words and features set to 50000\n",
    "\n",
    "TruncatedSVD - reduces dimenionality of TF-IDF matrix to 100 components (this will capture patterns yet reduce the complexity of the data)\n",
    "\n",
    "Normalizer - resulting vectors are scaled to unit norm"
   ]
  },
  {
   "cell_type": "code",
   "execution_count": 15,
   "metadata": {},
   "outputs": [
    {
     "name": "stdout",
     "output_type": "stream",
     "text": [
      "clustering done in 0.07 ± 0.05 s \n",
      "Homogeneity: 0.518 ± 0.017\n",
      "Completeness: 0.562 ± 0.002\n",
      "V-measure: 0.539 ± 0.009\n",
      "Adjusted Rand-Index: 0.439 ± 0.057\n",
      "Silhouette Coefficient: 0.037 ± 0.001\n"
     ]
    }
   ],
   "source": [
    "fit_and_evaluate(kmeans, X_hashed_lsa, name=\"KMeans\\nwith LSA on hashed vectors\")"
   ]
  },
  {
   "cell_type": "code",
   "execution_count": 16,
   "metadata": {},
   "outputs": [
    {
     "name": "stdout",
     "output_type": "stream",
     "text": [
      "clustering done in 0.06 ± 0.02 s \n",
      "Homogeneity: 0.444 ± 0.122\n",
      "Completeness: 0.490 ± 0.070\n",
      "V-measure: 0.463 ± 0.104\n",
      "Adjusted Rand-Index: 0.400 ± 0.149\n",
      "Silhouette Coefficient: 0.034 ± 0.006\n"
     ]
    }
   ],
   "source": [
    "fit_and_evaluate(\n",
    "    minibatch_kmeans,\n",
    "    X_hashed_lsa,\n",
    "    name=\"MiniBatchKMeans\\nwith LSA on hashed vectors\",\n",
    ")"
   ]
  },
  {
   "cell_type": "code",
   "execution_count": 17,
   "metadata": {},
   "outputs": [
    {
     "data": {
      "image/png": "[encoded data removed]",
      "text/plain": [
       "<Figure size 1600x600 with 2 Axes>"
      ]
     },
     "metadata": {},
     "output_type": "display_data"
    }
   ],
   "source": [
    "fig, (ax0, ax1) = plt.subplots(ncols=2, figsize=(16, 6), sharey=True)\n",
    "\n",
    "df = pd.DataFrame(evaluations[::-1]).set_index(\"estimator\")\n",
    "df_std = pd.DataFrame(evaluations_std[::-1]).set_index(\"estimator\")\n",
    "\n",
    "df.drop(\n",
    "    [\"train_time\"],\n",
    "    axis=\"columns\",\n",
    ").plot.barh(ax=ax0, xerr=df_std)\n",
    "ax0.set_xlabel(\"Clustering scores\")\n",
    "ax0.set_ylabel(\"\")\n",
    "\n",
    "df[\"train_time\"].plot.barh(ax=ax1, xerr=df_std[\"train_time\"])\n",
    "ax1.set_xlabel(\"Clustering time (s)\")\n",
    "plt.tight_layout()"
   ]
  }
 ],
 "metadata": {
  "kernelspec": {
   "display_name": "Python 3",
   "language": "python",
   "name": "python3"
  },
  "language_info": {
   "codemirror_mode": {
    "name": "ipython",
    "version": 3
   },
   "file_extension": ".py",
   "mimetype": "text/x-python",
   "name": "python",
   "nbconvert_exporter": "python",
   "pygments_lexer": "ipython3",
   "version": "3.12.1"
  }
 },
 "nbformat": 4,
 "nbformat_minor": 2
}
